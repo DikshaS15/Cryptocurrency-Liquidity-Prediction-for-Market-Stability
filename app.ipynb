{
  "nbformat": 4,
  "nbformat_minor": 0,
  "metadata": {
    "colab": {
      "provenance": []
    },
    "kernelspec": {
      "name": "python3",
      "display_name": "Python 3"
    },
    "language_info": {
      "name": "python"
    }
  },
  "cells": [
    {
      "cell_type": "code",
      "source": [
        "import streamlit as st\n",
        "import joblib\n",
        "import numpy as np\n",
        "\n",
        "# Load the saved model\n",
        "model = joblib.load('liquidity_prediction_model.pkl')\n",
        "\n",
        "# Title\n",
        "st.title('Cryptocurrency Liquidity Prediction App')\n",
        "\n",
        "# Description\n",
        "st.write('Enter cryptocurrency details to predict the Liquidity Ratio.')\n",
        "\n",
        "# Input fields\n",
        "price = st.number_input('Price (USD)', value=50000.0)\n",
        "volume_24h = st.number_input('24h Volume (USD)', value=100000000.0)\n",
        "market_cap = st.number_input('Market Cap (USD)', value=1000000000.0)\n",
        "returns = st.number_input('Returns (%)', value=0.5)\n",
        "\n",
        "# Only calculate volatility\n",
        "volatility = abs(returns)\n",
        "\n",
        "# Predict\n",
        "if st.button('Predict Liquidity'):\n",
        "    input_features = np.array([[price, volume_24h, market_cap, volatility]])  # Only 4 features\n",
        "    liquidity_ratio = model.predict(input_features)[0]\n",
        "    st.success(f'Predicted Liquidity Ratio: {liquidity_ratio:.6f}')"
      ],
      "metadata": {
        "id": "U6h87RCLumEx"
      },
      "execution_count": null,
      "outputs": []
    }
  ]
}